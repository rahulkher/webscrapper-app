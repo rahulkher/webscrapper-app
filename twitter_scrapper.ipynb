{
 "cells": [
  {
   "cell_type": "code",
   "execution_count": 46,
   "metadata": {},
   "outputs": [],
   "source": [
    "import csv\n",
    "from getpass import getpass\n",
    "from time import sleep\n",
    "from selenium import webdriver\n",
    "from selenium.webdriver.common.keys import Keys\n",
    "from selenium.webdriver.common.by import By\n",
    "from selenium.common.exceptions import NoSuchElementException\n",
    "from selenium.webdriver.edge.service import Service\n",
    "# from msedge.selenium_tools import Edge, EdgeOptions\n",
    "\n",
    "edge_driver_path = \"C:/Users/rahul/Downloads/edgedriver_win32/msedgedriver.exe\"\n",
    "service = Service(executable_path=edge_driver_path)\n",
    "\n",
    "driver = webdriver.Edge(service=service)\n",
    "\n",
    "driver.get(\"https://www.twitter.com/login\")\n"
   ]
  },
  {
   "cell_type": "code",
   "execution_count": 47,
   "metadata": {},
   "outputs": [],
   "source": [
    "username = driver.find_element(By.XPATH, \"//input[@name='text']\")\n",
    "username.send_keys(\"RKher22\")\n",
    "username.send_keys(Keys.RETURN)"
   ]
  },
  {
   "cell_type": "code",
   "execution_count": 48,
   "metadata": {},
   "outputs": [],
   "source": [
    "password = driver.find_element(By.XPATH, \"//input[@name='password']\")\n",
    "# my_password = getpass()\n",
    "password.send_keys(\"R@#ulk#er123\")\n",
    "password.send_keys(Keys.RETURN)"
   ]
  },
  {
   "cell_type": "code",
   "execution_count": 49,
   "metadata": {},
   "outputs": [],
   "source": [
    "# URL to Twitter's search page\n",
    "twitter_search_url = 'https://twitter.com/search?q='\n",
    "\n",
    "\n",
    "# Navigate to Twitter's search page with the current prompt\n",
    "driver.get(twitter_search_url + \"Narendra Modi\")\n",
    "driver.find_element(By.LINK_TEXT, \"Latest\").click()"
   ]
  },
  {
   "cell_type": "code",
   "execution_count": 51,
   "metadata": {},
   "outputs": [
    {
     "data": {
      "text/plain": [
       "list"
      ]
     },
     "execution_count": 51,
     "metadata": {},
     "output_type": "execute_result"
    }
   ],
   "source": [
    "# cards = driver.find_elements(By.XPATH, '//div/article[@data-testid=\"tweet\" and @tabindex=\"0\"]')\n",
    "# cards\n",
    "from selenium.webdriver.support.ui import WebDriverWait\n",
    "from selenium.webdriver.support import expected_conditions as EC\n",
    "current_cards = WebDriverWait(driver, 20).until(EC.presence_of_all_elements_located((By.XPATH, '//div/article[@data-testid=\"tweet\"]')))\n",
    "\n",
    "current_cards[len()]"
   ]
  },
  {
   "cell_type": "code",
   "execution_count": 32,
   "metadata": {},
   "outputs": [
    {
     "name": "stdout",
     "output_type": "stream",
     "text": [
      "Carlos Vene\n",
      "CovidOriginFraud_Tenure_Secured\n",
      "Cat Herding Science Nerd\n",
      "Ogu, Maduabuchi I.F.\n",
      "Ogu, Maduabuchi I.F.\n",
      "Marc Siegel MD\n",
      "Towards Data Science\n",
      "26\n"
     ]
    }
   ],
   "source": [
    "for i in range(8):\n",
    "    username = cards[i].find_element(By.XPATH, './/div[@data-testid=\"User-Name\"]//span').text\n",
    "    print(username)"
   ]
  },
  {
   "cell_type": "code",
   "execution_count": 33,
   "metadata": {},
   "outputs": [
    {
     "name": "stdout",
     "output_type": "stream",
     "text": [
      "@Venezabdon\n",
      "@HL3133\n",
      "@catladyactivist\n",
      "@Eta_Bucho\n",
      "@Eta_Bucho\n",
      "@DrMarcSiegel\n",
      "@TDataScience\n",
      "@deliciouz_jr\n"
     ]
    }
   ],
   "source": [
    "for i in range (8):\n",
    "    twitter_handle = cards[i].find_element(By.XPATH, './/div[@data-testid=\"User-Name\"]/div[2]//span').text\n",
    "    print(twitter_handle)"
   ]
  },
  {
   "cell_type": "code",
   "execution_count": 34,
   "metadata": {},
   "outputs": [
    {
     "name": "stdout",
     "output_type": "stream",
     "text": [
      "Se você é médico e gestor e sabe da necessidade da análise de dados, então vamos conversar pois, faço projetos de \n",
      "*****************************************************************************************\n",
      "data\n",
      "*****************************************************************************************\n",
      " \n",
      "*****************************************************************************************\n",
      "science\n",
      "*****************************************************************************************\n",
      " e machine learning para clínicas.\n",
      "*****************************************************************************************\n",
      "Imagine if u care for \n",
      "*****************************************************************************************\n",
      "science\n",
      "*****************************************************************************************\n",
      " n logic instead of embedded w rotten virology thinking. \n",
      "\n",
      "Ur thread is simply finding more excuses for fake natural origin. Which is dead again last week w new \n",
      "*****************************************************************************************\n",
      "data\n",
      "*****************************************************************************************\n",
      " from chn scientists!!!\n",
      "*****************************************************************************************\n",
      "1/ If the FCS were the only odd thing about this outbreak I doubt the lab leak belief would be quite as widespread. This novel SARSr w/ FCS coincidentally evolved in late 2019, shortly after the DEFUSE proposal to insert an FCS into SARSr CoVs.\n",
      "*****************************************************************************************\n",
      "It is utterly stupefying that people can call out things Trump THOUGHT about FOUR YEARS AGO while completely ignoring Biden DOING those things RIGHT NOW.\n",
      "\n",
      "Trump: \"LOL slow the testing down, please.\"\n",
      "\n",
      "Biden: *Stops testing, reporting, public \n",
      "*****************************************************************************************\n",
      "data\n",
      "*****************************************************************************************\n",
      ", ignores Long Covid entirely*\n",
      "*****************************************************************************************\n",
      "14. Machine Learning Crash Course\n",
      "*****************************************************************************************\n",
      "15. Basics of Machine Learning\n",
      "*****************************************************************************************\n",
      "16. \n",
      "*****************************************************************************************\n",
      "Data\n",
      "*****************************************************************************************\n",
      " \n",
      "*****************************************************************************************\n",
      "Science\n",
      "*****************************************************************************************\n",
      " with Python\n",
      "*****************************************************************************************\n",
      "7. Google Analytics for Power Users\n",
      "*****************************************************************************************\n",
      "…\n",
      "8. Fundamentals of digital marketing\n",
      "*****************************************************************************************\n",
      "…\n",
      "9. Python Basics for \n",
      "*****************************************************************************************\n",
      "Data\n",
      "*****************************************************************************************\n",
      " Analysis\n",
      "*****************************************************************************************\n",
      "10. \n",
      "*****************************************************************************************\n",
      "Data\n",
      "*****************************************************************************************\n",
      " \n",
      "*****************************************************************************************\n",
      "Science\n",
      "*****************************************************************************************\n",
      " Foundations\n",
      "*****************************************************************************************\n",
      "Great to have \n",
      "*****************************************************************************************\n",
      " Dr Mandy Cohen join me to discuss public health priorities and communication on Doctor Radio Reports on Friday. Nuance,  evolving \n",
      "*****************************************************************************************\n",
      "science\n",
      "*****************************************************************************************\n",
      " based on \n",
      "*****************************************************************************************\n",
      "data\n",
      "*****************************************************************************************\n",
      ", importance of vaccines, and receptivity. \n",
      "*****************************************************************************************\n",
      " \n",
      "*****************************************************************************************\n",
      " \n",
      "*****************************************************************************************\n",
      " \n",
      "*****************************************************************************************\n",
      "Exploring My LinkedIn Journey Through \n",
      "*****************************************************************************************\n",
      "Data\n",
      "*****************************************************************************************\n",
      " Analysis - Uncovering Patterns in My Posts and Engagement — A \n",
      "*****************************************************************************************\n",
      "data\n",
      "*****************************************************************************************\n",
      " related one-year journey by Stephan Hausberg\n",
      "*****************************************************************************************\n",
      "Tech field: \n",
      "*****************************************************************************************\n",
      "Data\n",
      "*****************************************************************************************\n",
      " \n",
      "*****************************************************************************************\n",
      "Science\n",
      "*****************************************************************************************\n",
      " \n",
      "Tech tools: VSCODE, SUBLIME, \n",
      "Languages: PYTHON, \n",
      "frameworks: LEARNING DJANGO\n",
      "*****************************************************************************************\n"
     ]
    }
   ],
   "source": [
    "for j in range(8):\n",
    "    tweet_text = cards[j].find_elements(By.XPATH, './/div[@data-testid=\"tweetText\"]/span')\n",
    "    for i in range(len(tweet_text)):\n",
    "        print(tweet_text[i].text)\n",
    "        print(\"*****************************************************************************************\")"
   ]
  },
  {
   "cell_type": "code",
   "execution_count": 35,
   "metadata": {},
   "outputs": [
    {
     "name": "stdout",
     "output_type": "stream",
     "text": [
      "0\n",
      "0\n",
      "0\n",
      "0\n",
      "1\n",
      "1\n",
      "0\n",
      "0\n"
     ]
    }
   ],
   "source": [
    "for i in range (8):\n",
    "    try:\n",
    "        replies = cards[i].find_element(By.XPATH, './/div[@data-testid=\"reply\"]//span[@data-testid=\"app-text-transition-container\"]/span/span').text\n",
    "        replies\n",
    "    except NoSuchElementException as e:\n",
    "        replies = 0\n",
    "    print(replies)\n",
    "\n"
   ]
  },
  {
   "cell_type": "code",
   "execution_count": 36,
   "metadata": {},
   "outputs": [
    {
     "name": "stdout",
     "output_type": "stream",
     "text": [
      "0\n",
      "1\n",
      "1\n",
      "0\n",
      "0\n",
      "0\n",
      "1\n",
      "0\n"
     ]
    }
   ],
   "source": [
    "for i in range (8):\n",
    "    retweets = cards[i].find_element(By.XPATH, './/div[@data-testid=\"retweet\"]//span[@data-testid=\"app-text-transition-container\"]/span').text\n",
    "    if retweets:\n",
    "        print(retweets)\n",
    "    else:\n",
    "        print(\"0\")\n"
   ]
  },
  {
   "cell_type": "code",
   "execution_count": 37,
   "metadata": {},
   "outputs": [
    {
     "name": "stdout",
     "output_type": "stream",
     "text": [
      "0\n",
      "0\n",
      "5\n",
      "0\n",
      "0\n",
      "1\n",
      "5\n",
      "0\n"
     ]
    }
   ],
   "source": [
    "for i in range (8):\n",
    "    likes = cards[i].find_element(By.XPATH, './/div[@data-testid=\"like\"]//span[@data-testid=\"app-text-transition-container\"]/span').text\n",
    "    if likes:\n",
    "        print(likes)\n",
    "    else:\n",
    "        print(\"0\")\n"
   ]
  },
  {
   "cell_type": "code",
   "execution_count": 38,
   "metadata": {},
   "outputs": [
    {
     "ename": "NoSuchElementException",
     "evalue": "Message: no such element: Unable to locate element: {\"method\":\"xpath\",\"selector\":\"/div/article[@data-testid=\"tweet\"]//a//span[@data-testid=\"app-text-transition-container\"]\"}\n  (Session info: MicrosoftEdge=122.0.2365.80); For documentation on this error, please visit: https://www.selenium.dev/documentation/webdriver/troubleshooting/errors#no-such-element-exception\nStacktrace:\n\tGetHandleVerifier [0x0068A2B3+230435]\n\tMicrosoft::Applications::Events::time_ticks_t::time_ticks_t [0x00567F71+401953]\n\tMicrosoft::Applications::Events::ILogConfiguration::operator* [0x0037A400+3888]\n\tMicrosoft::Applications::Events::GUID_t::GUID_t [0x003AD6F9+106393]\n\tMicrosoft::Applications::Events::GUID_t::GUID_t [0x003AD8D2+106866]\n\tMicrosoft::Applications::Events::GUID_t::GUID_t [0x003A6E61+79617]\n\tMicrosoft::Applications::Events::GUID_t::GUID_t [0x003C3064+194820]\n\tMicrosoft::Applications::Events::GUID_t::GUID_t [0x003A6E11+79537]\n\tMicrosoft::Applications::Events::GUID_t::GUID_t [0x003A6D90+79408]\n\tMicrosoft::Applications::Events::GUID_t::GUID_t [0x003C3344+195556]\n\tMicrosoft::Applications::Events::GUID_t::GUID_t [0x003A6E11+79537]\n\tMicrosoft::Applications::Events::GUID_t::GUID_t [0x003D7960+279040]\n\tMicrosoft::Applications::Events::GUID_t::GUID_t [0x003C2C86+193830]\n\tMicrosoft::Applications::Events::GUID_t::GUID_t [0x003A6613+77491]\n\tMicrosoft::Applications::Events::GUID_t::GUID_t [0x003A55F5+73365]\n\tMicrosoft::Applications::Events::GUID_t::GUID_t [0x003A601D+75965]\n\tGetHandleVerifier [0x0077B1FC+1217388]\n\tMicrosoft::Applications::Events::FromJSON [0x0084D022+134610]\n\tMicrosoft::Applications::Events::FromJSON [0x0084C9A7+132951]\n\tMicrosoft::Applications::Events::FromJSON [0x00841020+85456]\n\tMicrosoft::Applications::Events::FromJSON [0x0084D9FB+137131]\n\tMicrosoft::Applications::Events::time_ticks_t::time_ticks_t [0x0057AB3F+478703]\n\tMicrosoft::Applications::Events::time_ticks_t::time_ticks_t [0x005709F8+437416]\n\tMicrosoft::Applications::Events::time_ticks_t::time_ticks_t [0x00570BB6+437862]\n\tMicrosoft::Applications::Events::time_ticks_t::time_ticks_t [0x0055AE34+348388]\n\tBaseThreadInitThunk [0x761D7BA9+25]\n\tRtlInitializeExceptionChain [0x77DDBD2B+107]\n\tRtlClearBits [0x77DDBCAF+191]\n",
     "output_type": "error",
     "traceback": [
      "\u001b[1;31m---------------------------------------------------------------------------\u001b[0m",
      "\u001b[1;31mNoSuchElementException\u001b[0m                    Traceback (most recent call last)",
      "Cell \u001b[1;32mIn[38], line 9\u001b[0m\n\u001b[0;32m      1\u001b[0m \u001b[38;5;66;03m# for i in range(8):\u001b[39;00m\n\u001b[0;32m      2\u001b[0m \u001b[38;5;66;03m#     views = cards[i].find_element(By.XPATH, '//div/article[@data-testid=\"tweet\"]/div/div/div[2]/div[2]/div[4]/div/div/div[4]/a/div/div[2]/span[@data-testid=\"app-text-transition-container\"]/span/span').text\u001b[39;00m\n\u001b[0;32m      3\u001b[0m \u001b[38;5;66;03m#     if views != 0:\u001b[39;00m\n\u001b[0;32m      4\u001b[0m \u001b[38;5;66;03m#         print(views)\u001b[39;00m\n\u001b[0;32m      5\u001b[0m \u001b[38;5;66;03m#     else:\u001b[39;00m\n\u001b[0;32m      6\u001b[0m \u001b[38;5;66;03m#         print(\"0\")\u001b[39;00m\n\u001b[1;32m----> 9\u001b[0m views \u001b[38;5;241m=\u001b[39m \u001b[43mcards\u001b[49m\u001b[43m[\u001b[49m\u001b[38;5;241;43m5\u001b[39;49m\u001b[43m]\u001b[49m\u001b[38;5;241;43m.\u001b[39;49m\u001b[43mfind_element\u001b[49m\u001b[43m(\u001b[49m\u001b[43mBy\u001b[49m\u001b[38;5;241;43m.\u001b[39;49m\u001b[43mXPATH\u001b[49m\u001b[43m,\u001b[49m\u001b[43m \u001b[49m\u001b[38;5;124;43m'\u001b[39;49m\u001b[38;5;124;43m/div/article[@data-testid=\u001b[39;49m\u001b[38;5;124;43m\"\u001b[39;49m\u001b[38;5;124;43mtweet\u001b[39;49m\u001b[38;5;124;43m\"\u001b[39;49m\u001b[38;5;124;43m]//a//span[@data-testid=\u001b[39;49m\u001b[38;5;124;43m\"\u001b[39;49m\u001b[38;5;124;43mapp-text-transition-container\u001b[39;49m\u001b[38;5;124;43m\"\u001b[39;49m\u001b[38;5;124;43m]\u001b[39;49m\u001b[38;5;124;43m'\u001b[39;49m\u001b[43m)\u001b[49m\u001b[38;5;241m.\u001b[39mtext\n\u001b[0;32m     11\u001b[0m \u001b[38;5;28mprint\u001b[39m(views)\n",
      "File \u001b[1;32md:\\OS int tool\\venv\\lib\\site-packages\\selenium\\webdriver\\remote\\webelement.py:417\u001b[0m, in \u001b[0;36mWebElement.find_element\u001b[1;34m(self, by, value)\u001b[0m\n\u001b[0;32m    414\u001b[0m     by \u001b[38;5;241m=\u001b[39m By\u001b[38;5;241m.\u001b[39mCSS_SELECTOR\n\u001b[0;32m    415\u001b[0m     value \u001b[38;5;241m=\u001b[39m \u001b[38;5;124mf\u001b[39m\u001b[38;5;124m'\u001b[39m\u001b[38;5;124m[name=\u001b[39m\u001b[38;5;124m\"\u001b[39m\u001b[38;5;132;01m{\u001b[39;00mvalue\u001b[38;5;132;01m}\u001b[39;00m\u001b[38;5;124m\"\u001b[39m\u001b[38;5;124m]\u001b[39m\u001b[38;5;124m'\u001b[39m\n\u001b[1;32m--> 417\u001b[0m \u001b[38;5;28;01mreturn\u001b[39;00m \u001b[38;5;28;43mself\u001b[39;49m\u001b[38;5;241;43m.\u001b[39;49m\u001b[43m_execute\u001b[49m\u001b[43m(\u001b[49m\u001b[43mCommand\u001b[49m\u001b[38;5;241;43m.\u001b[39;49m\u001b[43mFIND_CHILD_ELEMENT\u001b[49m\u001b[43m,\u001b[49m\u001b[43m \u001b[49m\u001b[43m{\u001b[49m\u001b[38;5;124;43m\"\u001b[39;49m\u001b[38;5;124;43musing\u001b[39;49m\u001b[38;5;124;43m\"\u001b[39;49m\u001b[43m:\u001b[49m\u001b[43m \u001b[49m\u001b[43mby\u001b[49m\u001b[43m,\u001b[49m\u001b[43m \u001b[49m\u001b[38;5;124;43m\"\u001b[39;49m\u001b[38;5;124;43mvalue\u001b[39;49m\u001b[38;5;124;43m\"\u001b[39;49m\u001b[43m:\u001b[49m\u001b[43m \u001b[49m\u001b[43mvalue\u001b[49m\u001b[43m}\u001b[49m\u001b[43m)\u001b[49m[\u001b[38;5;124m\"\u001b[39m\u001b[38;5;124mvalue\u001b[39m\u001b[38;5;124m\"\u001b[39m]\n",
      "File \u001b[1;32md:\\OS int tool\\venv\\lib\\site-packages\\selenium\\webdriver\\remote\\webelement.py:395\u001b[0m, in \u001b[0;36mWebElement._execute\u001b[1;34m(self, command, params)\u001b[0m\n\u001b[0;32m    393\u001b[0m     params \u001b[38;5;241m=\u001b[39m {}\n\u001b[0;32m    394\u001b[0m params[\u001b[38;5;124m\"\u001b[39m\u001b[38;5;124mid\u001b[39m\u001b[38;5;124m\"\u001b[39m] \u001b[38;5;241m=\u001b[39m \u001b[38;5;28mself\u001b[39m\u001b[38;5;241m.\u001b[39m_id\n\u001b[1;32m--> 395\u001b[0m \u001b[38;5;28;01mreturn\u001b[39;00m \u001b[38;5;28;43mself\u001b[39;49m\u001b[38;5;241;43m.\u001b[39;49m\u001b[43m_parent\u001b[49m\u001b[38;5;241;43m.\u001b[39;49m\u001b[43mexecute\u001b[49m\u001b[43m(\u001b[49m\u001b[43mcommand\u001b[49m\u001b[43m,\u001b[49m\u001b[43m \u001b[49m\u001b[43mparams\u001b[49m\u001b[43m)\u001b[49m\n",
      "File \u001b[1;32md:\\OS int tool\\venv\\lib\\site-packages\\selenium\\webdriver\\remote\\webdriver.py:347\u001b[0m, in \u001b[0;36mWebDriver.execute\u001b[1;34m(self, driver_command, params)\u001b[0m\n\u001b[0;32m    345\u001b[0m response \u001b[38;5;241m=\u001b[39m \u001b[38;5;28mself\u001b[39m\u001b[38;5;241m.\u001b[39mcommand_executor\u001b[38;5;241m.\u001b[39mexecute(driver_command, params)\n\u001b[0;32m    346\u001b[0m \u001b[38;5;28;01mif\u001b[39;00m response:\n\u001b[1;32m--> 347\u001b[0m     \u001b[38;5;28;43mself\u001b[39;49m\u001b[38;5;241;43m.\u001b[39;49m\u001b[43merror_handler\u001b[49m\u001b[38;5;241;43m.\u001b[39;49m\u001b[43mcheck_response\u001b[49m\u001b[43m(\u001b[49m\u001b[43mresponse\u001b[49m\u001b[43m)\u001b[49m\n\u001b[0;32m    348\u001b[0m     response[\u001b[38;5;124m\"\u001b[39m\u001b[38;5;124mvalue\u001b[39m\u001b[38;5;124m\"\u001b[39m] \u001b[38;5;241m=\u001b[39m \u001b[38;5;28mself\u001b[39m\u001b[38;5;241m.\u001b[39m_unwrap_value(response\u001b[38;5;241m.\u001b[39mget(\u001b[38;5;124m\"\u001b[39m\u001b[38;5;124mvalue\u001b[39m\u001b[38;5;124m\"\u001b[39m, \u001b[38;5;28;01mNone\u001b[39;00m))\n\u001b[0;32m    349\u001b[0m     \u001b[38;5;28;01mreturn\u001b[39;00m response\n",
      "File \u001b[1;32md:\\OS int tool\\venv\\lib\\site-packages\\selenium\\webdriver\\remote\\errorhandler.py:229\u001b[0m, in \u001b[0;36mErrorHandler.check_response\u001b[1;34m(self, response)\u001b[0m\n\u001b[0;32m    227\u001b[0m         alert_text \u001b[38;5;241m=\u001b[39m value[\u001b[38;5;124m\"\u001b[39m\u001b[38;5;124malert\u001b[39m\u001b[38;5;124m\"\u001b[39m]\u001b[38;5;241m.\u001b[39mget(\u001b[38;5;124m\"\u001b[39m\u001b[38;5;124mtext\u001b[39m\u001b[38;5;124m\"\u001b[39m)\n\u001b[0;32m    228\u001b[0m     \u001b[38;5;28;01mraise\u001b[39;00m exception_class(message, screen, stacktrace, alert_text)  \u001b[38;5;66;03m# type: ignore[call-arg]  # mypy is not smart enough here\u001b[39;00m\n\u001b[1;32m--> 229\u001b[0m \u001b[38;5;28;01mraise\u001b[39;00m exception_class(message, screen, stacktrace)\n",
      "\u001b[1;31mNoSuchElementException\u001b[0m: Message: no such element: Unable to locate element: {\"method\":\"xpath\",\"selector\":\"/div/article[@data-testid=\"tweet\"]//a//span[@data-testid=\"app-text-transition-container\"]\"}\n  (Session info: MicrosoftEdge=122.0.2365.80); For documentation on this error, please visit: https://www.selenium.dev/documentation/webdriver/troubleshooting/errors#no-such-element-exception\nStacktrace:\n\tGetHandleVerifier [0x0068A2B3+230435]\n\tMicrosoft::Applications::Events::time_ticks_t::time_ticks_t [0x00567F71+401953]\n\tMicrosoft::Applications::Events::ILogConfiguration::operator* [0x0037A400+3888]\n\tMicrosoft::Applications::Events::GUID_t::GUID_t [0x003AD6F9+106393]\n\tMicrosoft::Applications::Events::GUID_t::GUID_t [0x003AD8D2+106866]\n\tMicrosoft::Applications::Events::GUID_t::GUID_t [0x003A6E61+79617]\n\tMicrosoft::Applications::Events::GUID_t::GUID_t [0x003C3064+194820]\n\tMicrosoft::Applications::Events::GUID_t::GUID_t [0x003A6E11+79537]\n\tMicrosoft::Applications::Events::GUID_t::GUID_t [0x003A6D90+79408]\n\tMicrosoft::Applications::Events::GUID_t::GUID_t [0x003C3344+195556]\n\tMicrosoft::Applications::Events::GUID_t::GUID_t [0x003A6E11+79537]\n\tMicrosoft::Applications::Events::GUID_t::GUID_t [0x003D7960+279040]\n\tMicrosoft::Applications::Events::GUID_t::GUID_t [0x003C2C86+193830]\n\tMicrosoft::Applications::Events::GUID_t::GUID_t [0x003A6613+77491]\n\tMicrosoft::Applications::Events::GUID_t::GUID_t [0x003A55F5+73365]\n\tMicrosoft::Applications::Events::GUID_t::GUID_t [0x003A601D+75965]\n\tGetHandleVerifier [0x0077B1FC+1217388]\n\tMicrosoft::Applications::Events::FromJSON [0x0084D022+134610]\n\tMicrosoft::Applications::Events::FromJSON [0x0084C9A7+132951]\n\tMicrosoft::Applications::Events::FromJSON [0x00841020+85456]\n\tMicrosoft::Applications::Events::FromJSON [0x0084D9FB+137131]\n\tMicrosoft::Applications::Events::time_ticks_t::time_ticks_t [0x0057AB3F+478703]\n\tMicrosoft::Applications::Events::time_ticks_t::time_ticks_t [0x005709F8+437416]\n\tMicrosoft::Applications::Events::time_ticks_t::time_ticks_t [0x00570BB6+437862]\n\tMicrosoft::Applications::Events::time_ticks_t::time_ticks_t [0x0055AE34+348388]\n\tBaseThreadInitThunk [0x761D7BA9+25]\n\tRtlInitializeExceptionChain [0x77DDBD2B+107]\n\tRtlClearBits [0x77DDBCAF+191]\n"
     ]
    }
   ],
   "source": [
    "# for i in range(8):\n",
    "#     views = cards[i].find_element(By.XPATH, '//div/article[@data-testid=\"tweet\"]/div/div/div[2]/div[2]/div[4]/div/div/div[4]/a/div/div[2]/span[@data-testid=\"app-text-transition-container\"]/span/span').text\n",
    "#     if views != 0:\n",
    "#         print(views)\n",
    "#     else:\n",
    "#         print(\"0\")\n",
    "\n",
    "\n",
    "views = cards[5].find_element(By.XPATH, '/div/article[@data-testid=\"tweet\"]//a//span[@data-testid=\"app-text-transition-container\"]').text\n",
    "\n",
    "print(views)"
   ]
  },
  {
   "cell_type": "code",
   "execution_count": 39,
   "metadata": {},
   "outputs": [
    {
     "name": "stdout",
     "output_type": "stream",
     "text": [
      "Logged In\n"
     ]
    }
   ],
   "source": [
    "from selenium.common.exceptions import NoSuchElementException, TimeoutException\n",
    "# Check Correct Login\n",
    "try:\n",
    "    loginacct = driver.find_element(By.XPATH, '//div[@data-testid=\"SideNav_AccountSwitcher_Button\"]')\n",
    "    print(\"Logged In\")\n",
    "except NoSuchElementException:\n",
    "    print(\"Did not login\")\n",
    "except TimeoutException:\n",
    "    print(\"Connection timed out\")"
   ]
  },
  {
   "cell_type": "code",
   "execution_count": null,
   "metadata": {},
   "outputs": [],
   "source": [
    "with open (\"D:\\OS int tool\\license.lic\", 'r') as file:\n",
    "    content = file.read()\n",
    "\n",
    "    "
   ]
  }
 ],
 "metadata": {
  "kernelspec": {
   "display_name": "venv",
   "language": "python",
   "name": "python3"
  },
  "language_info": {
   "codemirror_mode": {
    "name": "ipython",
    "version": 3
   },
   "file_extension": ".py",
   "mimetype": "text/x-python",
   "name": "python",
   "nbconvert_exporter": "python",
   "pygments_lexer": "ipython3",
   "version": "3.9.0"
  }
 },
 "nbformat": 4,
 "nbformat_minor": 2
}
